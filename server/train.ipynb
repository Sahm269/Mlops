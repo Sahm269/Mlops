{
 "cells": [
  {
   "cell_type": "code",
   "execution_count": null,
   "id": "3ea19fa9",
   "metadata": {},
   "outputs": [],
   "source": [
    "import pandas as pd\n",
    "from sklearn.datasets import load_iris\n",
    "from sklearn.ensemble import RandomForestClassifier\n",
    "import joblib\n",
    "\n"
   ]
  },
  {
   "cell_type": "code",
   "execution_count": null,
   "id": "a3cde69b",
   "metadata": {},
   "outputs": [],
   "source": [
    "# Charger les données\n",
    "iris = load_iris()\n",
    "X, y = iris.data, iris.target\n"
   ]
  },
  {
   "cell_type": "code",
   "execution_count": null,
   "id": "4b2096cf",
   "metadata": {},
   "outputs": [],
   "source": [
    "\n",
    "# Entraîner le modèle\n",
    "clf = RandomForestClassifier()\n",
    "clf.fit(X, y)\n",
    "\n"
   ]
  },
  {
   "cell_type": "code",
   "execution_count": null,
   "id": "adfcca24",
   "metadata": {},
   "outputs": [],
   "source": [
    "# Sauvegarder le modèle\n",
    "joblib.dump(clf, \"model.pkl\")\n",
    "print(\"✅ Modèle entraîné et sauvegardé dans model.pkl\")\n"
   ]
  }
 ],
 "metadata": {
  "kernelspec": {
   "display_name": "venvmlops",
   "language": "python",
   "name": "python3"
  },
  "language_info": {
   "name": "python",
   "version": "3.11.6"
  }
 },
 "nbformat": 4,
 "nbformat_minor": 5
}
